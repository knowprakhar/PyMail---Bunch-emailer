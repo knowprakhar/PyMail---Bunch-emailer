{
 "cells": [
  {
   "cell_type": "code",
   "execution_count": 7,
   "id": "4e550ff2",
   "metadata": {},
   "outputs": [
    {
     "name": "stdout",
     "output_type": "stream",
     "text": [
      "Enter path of Excel sheet: /Users/prakharawasthi/Documents/test_subject.csv\n",
      "Successfully sent email to prakhar.contact@gmail.com\n"
     ]
    }
   ],
   "source": [
    "import smtplib\n",
    "import pandas as pd\n",
    "from smtplib import SMTPResponseException\n",
    "from email.mime.text import MIMEText\n",
    "\n",
    "your_email = 'abc@gmail.com'\n",
    "your_password = \"abc\"\n",
    "\n",
    "file_path = input(\"Enter path of Excel sheet: \")\n",
    "# reading the spreadsheet\n",
    "email_list = pd.read_csv(file_path)\n",
    "# getting the names and the emails\n",
    "# names = email_list['User Name']\n",
    "emails = email_list['emailid']\n",
    "msg1 = email_list['msg1']\n",
    "msg2 = email_list['msg2']\n",
    "\n",
    "try:\n",
    "    smtpObj = smtplib.SMTP_SSL('smtpout.secureserver.net', 465)\n",
    "    smtpObj.ehlo()\n",
    "    smtpObj.login(your_email, your_password)\n",
    "    \n",
    "# iterate through the records\n",
    "    for i in range(len(emails)):\n",
    "  \n",
    "        # for every record get the name and the email addresses\n",
    "        email = emails[i]\n",
    "        msg1 = msgs1[i]\n",
    "        msg2 = msgs2[i]\n",
    "\n",
    "        # the message to be emailed\n",
    "\n",
    "        msg = MIMEText('Dear User,\\nThis is test mail.')\n",
    "        msg['Subject'] = 'Test Mail'\n",
    "        msg['From'] = your_email\n",
    "        msg['To'] = email\n",
    "\n",
    "        # sending the email\n",
    "        smtpObj.sendmail(your_email, [email], msg.as_string())       \n",
    "        print (\"Successfully sent email to \"+email)\n",
    "except SMTPResponseException as e:\n",
    "    print (\"Error: unable to send email\" + e.smtp_code)\n",
    "  \n",
    "# close the smtp server\n",
    "smtpObj.close()"
   ]
  },
  {
   "cell_type": "code",
   "execution_count": null,
   "id": "14e698d9",
   "metadata": {},
   "outputs": [],
   "source": []
  }
 ],
 "metadata": {
  "kernelspec": {
   "display_name": "Python 3 (ipykernel)",
   "language": "python",
   "name": "python3"
  },
  "language_info": {
   "codemirror_mode": {
    "name": "ipython",
    "version": 3
   },
   "file_extension": ".py",
   "mimetype": "text/x-python",
   "name": "python",
   "nbconvert_exporter": "python",
   "pygments_lexer": "ipython3",
   "version": "3.9.7"
  }
 },
 "nbformat": 4,
 "nbformat_minor": 5
}
